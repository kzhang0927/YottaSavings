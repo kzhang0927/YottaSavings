{
 "cells": [
  {
   "cell_type": "code",
   "execution_count": 12,
   "metadata": {},
   "outputs": [],
   "source": [
    "import numpy as np\n",
    "import matplotlib.pyplot as plt"
   ]
  },
  {
   "cell_type": "code",
   "execution_count": 13,
   "metadata": {
    "scrolled": false
   },
   "outputs": [],
   "source": [
    "#From https://www.asksebby.com/banking/yotta-savings-review\n",
    "\n",
    "Prizes = [.1, .15, .70, 8, 0, 0, 0, 0, 0, 0, .3, 10, 0, 0]\n",
    "Odds = [44, 72, 344, 3934, 108396, 8536197, 3277899625, 1.8, 3, 14, 164, 4517, 355675, 136579151]"
   ]
  },
  {
   "cell_type": "code",
   "execution_count": 14,
   "metadata": {},
   "outputs": [
    {
     "name": "stdout",
     "output_type": "stream",
     "text": [
      "Amount dollars invested: 12250\n",
      "Amount of weeks: 52\n"
     ]
    }
   ],
   "source": [
    "Input_dollars = int(input('Amount dollars invested: '))\n",
    "Input_weeks = int(input('Amount of weeks: '))"
   ]
  },
  {
   "cell_type": "code",
   "execution_count": 24,
   "metadata": {},
   "outputs": [
    {
     "name": "stdout",
     "output_type": "stream",
     "text": [
      "Expected value per ticket: $0.012\n",
      "Expected APY: 2.59%\n"
     ]
    }
   ],
   "source": [
    "Expected_Value = 0\n",
    "for i in range(len(Prizes)):\n",
    "    Value = Prizes[i] * 1/Odds[i]\n",
    "    Expected_Value += Value\n",
    "print('Expected value per ticket: $' + str(round(Expected_Value,3)))\n",
    "print('Expected APY: ' + str(round(Expected_Value*Input_weeks/25*100,2)) +'%')"
   ]
  },
  {
   "cell_type": "code",
   "execution_count": 16,
   "metadata": {},
   "outputs": [],
   "source": [
    "def prizes(n):\n",
    "    probs = (1 / np.array(Odds))\n",
    "    probs = (1 / np.array(Odds)) / np.sum((1 / np.array(Odds)))\n",
    "    return np.random.choice(Prizes, size=n, replace=True, p=probs)"
   ]
  },
  {
   "cell_type": "code",
   "execution_count": 17,
   "metadata": {},
   "outputs": [],
   "source": [
    "def invest(dollars, weeks):\n",
    "        tickets_per_week = int(dollars / 25)\n",
    "        total_prizes = prizes(tickets_per_week * weeks)\n",
    "        total = np.sum(total_prizes)\n",
    "        return total"
   ]
  },
  {
   "cell_type": "code",
   "execution_count": 20,
   "metadata": {},
   "outputs": [],
   "source": [
    "total_winnings = []\n",
    "for i in range(100000):\n",
    "    total_winnings.append(invest(Input_dollars, Input_weeks))\n",
    "minimum = min(total_winnings)"
   ]
  },
  {
   "cell_type": "code",
   "execution_count": 21,
   "metadata": {
    "scrolled": true
   },
   "outputs": [
    {
     "data": {
      "image/png": "[encoded data removed]",
      "text/plain": [
       "<Figure size 432x288 with 1 Axes>"
      ]
     },
     "metadata": {
      "needs_background": "light"
     },
     "output_type": "display_data"
    },
    {
     "name": "stdout",
     "output_type": "stream",
     "text": [
      "Expected average winnings of $315.49, or return of 2.58%\n",
      "Minimum winnings would be $199.8, or return of 1.63%\n"
     ]
    }
   ],
   "source": [
    "plt.xlabel(\"Return\")\n",
    "plt.ylabel(\"Count\")\n",
    "plt.hist(total_winnings, 100)\n",
    "plt.title('Investing $'+ str(int(Input_dollars / 1000)) + 'k over ' + str(Input_weeks) + ' weeks')\n",
    "plt.show()\n",
    "print(\n",
    "    'Expected average winnings of $' + str(round(sum(total_winnings) / len(total_winnings),2)) + \n",
    "', or return of ' + str(round((sum(total_winnings) / len(total_winnings))/Input_dollars*100,2)) + '%'\n",
    ")\n",
    "\n",
    "print(\n",
    "    'Minimum winnings would be $' + str(round(min(total_winnings),2)) + ', or return of '\n",
    "    + str(round(min(total_winnings)/Input_dollars*100,2)) + '%')"
   ]
  }
 ],
 "metadata": {
  "kernelspec": {
   "display_name": "Python 3",
   "language": "python",
   "name": "python3"
  },
  "language_info": {
   "codemirror_mode": {
    "name": "ipython",
    "version": 3
   },
   "file_extension": ".py",
   "mimetype": "text/x-python",
   "name": "python",
   "nbconvert_exporter": "python",
   "pygments_lexer": "ipython3",
   "version": "3.8.3"
  }
 },
 "nbformat": 4,
 "nbformat_minor": 4
}
