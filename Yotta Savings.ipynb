{
 "cells": [
  {
   "cell_type": "code",
   "execution_count": 28,
   "metadata": {},
   "outputs": [],
   "source": [
    "import numpy as np\n",
    "import matplotlib.pyplot as plt"
   ]
  },
  {
   "cell_type": "code",
   "execution_count": 66,
   "metadata": {
    "scrolled": false
   },
   "outputs": [],
   "source": [
    "#From https://www.asksebby.com/banking/yotta-savings-review\n",
    "\n",
    "PRIZES_NO_SPLITS = [.1, .15, .70, 8, 0, 0, 0, 0, 0, 0, .3, 10, 0, 0]\n",
    "ODDS = [44, 72, 344, 3934, 108396, 8536197, 3277899625, 1.8, 3, 14, 164, 4517, 355675, 136579151]"
   ]
  },
  {
   "cell_type": "code",
   "execution_count": 67,
   "metadata": {},
   "outputs": [
    {
     "name": "stdout",
     "output_type": "stream",
     "text": [
      "Expected APY: 1.25%\n"
     ]
    }
   ],
   "source": [
    "Expected_Value = 0\n",
    "for i in range(len(PRIZES_NO_SPLITS)):\n",
    "    Value = PRIZES_NO_SPLITS[i] * 1/ODDS[i]\n",
    "    Expected_Value += Value\n",
    "print('Expected APY: ' + str(round(Expected_Value * 100,2))+ '%')"
   ]
  },
  {
   "cell_type": "code",
   "execution_count": 68,
   "metadata": {},
   "outputs": [],
   "source": [
    "def draw_tickets(n=1):\n",
    "    \"\"\"Draw yotta ball tickets\"\"\"\n",
    "    probs = 1 / np.array(ODDS)\n",
    "    probs = probs / np.sum(probs)\n",
    "    return np.random.choice(PRIZES_NO_SPLITS, size=n, replace=True, p=probs)"
   ]
  },
  {
   "cell_type": "code",
   "execution_count": 69,
   "metadata": {},
   "outputs": [],
   "source": [
    "def invest(dollars, weeks, compounding):\n",
    "    if compounding:\n",
    "        winnings = 0\n",
    "        for week in range(weeks):\n",
    "            tickets_per_week = int(dollars / 25)\n",
    "            tickets = draw_tickets(tickets_per_week)\n",
    "            winnings += np.sum(tickets)\n",
    "            dollars += np.sum(tickets)\n",
    "        return winnings\n",
    "    else:\n",
    "        tickets_per_week = int(dollars / 25)\n",
    "        tickets = draw_tickets(tickets_per_week * weeks)\n",
    "        winnings = np.sum(tickets)\n",
    "        return winnings"
   ]
  },
  {
   "cell_type": "code",
   "execution_count": 70,
   "metadata": {},
   "outputs": [],
   "source": [
    "def experiment(dollars, weeks=52, trials=10000, compounding=False):\n",
    "    plt.xlabel(\"Money Won\")\n",
    "    plt.ylabel(\"Count\")\n",
    "    winnings = []\n",
    "    for i in range(trials):\n",
    "        winnings.append(invest(dollars, weeks, compounding=compounding))\n",
    "    plt.hist(winnings, 100)\n",
    "    plt.title(f\"Invest ${int(dollars / 1000)}k For One Year\")\n",
    "    minimum = min(winnings)"
   ]
  },
  {
   "cell_type": "code",
   "execution_count": 71,
   "metadata": {},
   "outputs": [
    {
     "name": "stdout",
     "output_type": "stream",
     "text": [
      "Amount dollars invested: 12260\n",
      "Amount of weeks: 52\n",
      "Compounding? (True/False): False\n"
     ]
    }
   ],
   "source": [
    "Input_dollars = int(input('Amount dollars invested: '))\n",
    "Input_weeks = int(input('Amount of weeks: '))\n",
    "Input_compounding = input('Compounding? (True/False): ')"
   ]
  },
  {
   "cell_type": "code",
   "execution_count": 72,
   "metadata": {
    "scrolled": true
   },
   "outputs": [
    {
     "data": {
      "image/png": "[encoded data removed]",
      "text/plain": [
       "<Figure size 432x288 with 1 Axes>"
      ]
     },
     "metadata": {
      "needs_background": "light"
     },
     "output_type": "display_data"
    },
    {
     "name": "stdout",
     "output_type": "stream",
     "text": [
      "Expected average winnings of $328.25, or equivalent of 2.48%\n"
     ]
    }
   ],
   "source": [
    "experiment(Input_dollars, Input_weeks, compounding=Input_compounding)\n",
    "plt.show()\n",
    "print(\n",
    "    'Expected average winnings of $' + str(round(invest(Input_dollars, Input_weeks, compounding=Input_compounding),2)) + \n",
    "', or equivalent of ' + str(round(invest(Input_dollars, Input_weeks, compounding=Input_compounding)/Input_dollars*100,2)) + '%'\n",
    ")"
   ]
  },
  {
   "cell_type": "code",
   "execution_count": 73,
   "metadata": {},
   "outputs": [
    {
     "name": "stdout",
     "output_type": "stream",
     "text": [
      "Minimum winnings would be approximately 221.35, or approximately 1.81%\n"
     ]
    }
   ],
   "source": [
    "winnings = []\n",
    "for i in range(10000):\n",
    "    winnings.append(invest(Input_dollars, Input_weeks, compounding=Input_compounding))\n",
    "print(\n",
    "    'Minimum winnings would be approximately ' + str(round(min(winnings),2)) + ', or approximately '\n",
    "    + str(round(min(winnings)/Input_dollars*100,2)) + '%')"
   ]
  }
 ],
 "metadata": {
  "kernelspec": {
   "display_name": "Python 3",
   "language": "python",
   "name": "python3"
  },
  "language_info": {
   "codemirror_mode": {
    "name": "ipython",
    "version": 3
   },
   "file_extension": ".py",
   "mimetype": "text/x-python",
   "name": "python",
   "nbconvert_exporter": "python",
   "pygments_lexer": "ipython3",
   "version": "3.8.5"
  }
 },
 "nbformat": 4,
 "nbformat_minor": 4
}
